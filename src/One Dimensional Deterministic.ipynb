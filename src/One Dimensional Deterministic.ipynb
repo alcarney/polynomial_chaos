{
 "cells": [
  {
   "cell_type": "code",
   "execution_count": 37,
   "metadata": {
    "collapsed": true
   },
   "outputs": [],
   "source": [
    "import numpy as np\n",
    "import matplotlib.pyplot as plt\n",
    "from math import sin, pi, sqrt"
   ]
  },
  {
   "cell_type": "markdown",
   "metadata": {},
   "source": [
    "## Local Stiffness and Mass Matrix Definitions"
   ]
  },
  {
   "cell_type": "code",
   "execution_count": 7,
   "metadata": {
    "collapsed": true
   },
   "outputs": [],
   "source": [
    "def local_stiffness_matrix(a,b,c,h):\n",
    "    \"\"\"\n",
    "    This constructs the local stiffness matrix for the given problem\n",
    "    \"\"\"\n",
    "    A1 = np.array([[1, -1], [-1, 1]])\n",
    "    A2 = np.array([[2, 1], [1, 2]])\n",
    "    A3 = np.array([[2, 1], [1, 2]])\n",
    "    \n",
    "    return (a/h)*A1 - (b/2)*A2 + (c*h/6)*A3\n",
    "\n",
    "def local_mass_matrix(h):\n",
    "    \"\"\"\n",
    "    This constructs the local mass matrix for the given problem\n",
    "    \"\"\"\n",
    "    return (h/6) * np.array([[2, 1], [1, 2]]) "
   ]
  },
  {
   "cell_type": "markdown",
   "metadata": {},
   "source": [
    "## Constructing the Global System"
   ]
  },
  {
   "cell_type": "code",
   "execution_count": 8,
   "metadata": {
    "collapsed": true
   },
   "outputs": [],
   "source": [
    "def construct_system(N=4, a=1, b=0, c=0):\n",
    "    \"\"\"\n",
    "    Construct the global mass and stiffness matrices\n",
    "    for the given problem\n",
    "    \n",
    "    Arguments:\n",
    "        N: An integer. Represents the density of the discretisation.\n",
    "           Default value: 4\n",
    "           \n",
    "        a: A float. Corresponds to the parameter a in the equation\n",
    "           Default value: 1\n",
    "           \n",
    "        b: A float. Corresponds to the parameter b in the equation\n",
    "           Default value: 0\n",
    "           \n",
    "        c: A float. Corresponds to the parameter c in the equation\n",
    "           Default value: 0\n",
    "           \n",
    "    Returns:\n",
    "        A: The global stiffness matrix, dimension N x N\n",
    "        M: The global mass matrix, dimension N x (N + 1)\n",
    "    \"\"\"\n",
    "    \n",
    "    # Calculate h\n",
    "    h = 1/N\n",
    "    \n",
    "    # Get the local stiffness and mass matrices for the given problem\n",
    "    A_k = local_stiffness_matrix(a, b, c, h)\n",
    "    M_k = local_mass_matrix(h)\n",
    "    \n",
    "    # Construct the global stiffness matrix\n",
    "    A = np.zeros((N-1,N-1))\n",
    "    i,j = np.indices(A.shape)           # These are used to access the\n",
    "                                        # diagonals\n",
    " \n",
    "    A[i == j+1] = A_k[1,0]              # Subdiagonal\n",
    "    A[i == j]   = A_k[1,1] + A_k[0,0]   # Main diagonal\n",
    "    A[i == j-1] = A_k[0,1]              # Superdiagonal\n",
    "\n",
    "    \n",
    "    # Construct the gloal mass matrix\n",
    "    M = np.zeros((N-1,N+1))\n",
    "    i, j = np.indices(M.shape)          # These are used to access the \n",
    "                                        # diagonals\n",
    "    \n",
    "    M[i == j]   = M_k[1,0]               # Subdiagonal\n",
    "    M[i == j-1] = M_k[1,1] + M_k[0,0]    # Main diagonal\n",
    "    M[i == j-2] = M_k[0,1]               # Superdiagonal\n",
    "    \n",
    "    \n",
    "    return A, M"
   ]
  },
  {
   "cell_type": "markdown",
   "metadata": {},
   "source": [
    "# Solving the System"
   ]
  },
  {
   "cell_type": "code",
   "execution_count": 19,
   "metadata": {
    "collapsed": false
   },
   "outputs": [],
   "source": [
    "def solve_system(f, N=4, a=1, b=0, c=0):\n",
    "    \"\"\"\n",
    "    Given the density N and the RHS f give the solution\n",
    "    \"\"\"\n",
    "    \n",
    "    # Discretise the domain\n",
    "    xs = np.linspace(0, 1, N+1)\n",
    "    \n",
    "    # Approximate f\n",
    "    fs = np.array([f(x) for x in xs])\n",
    "    \n",
    "    \n",
    "    # Construct the system\n",
    "    A, M = construct_system(N, a, b, c)\n",
    "    \n",
    "    # Construct the RHS\n",
    "    M_f = np.dot(M,fs)\n",
    "    \n",
    "    # Solve and return\n",
    "    return xs, np.linalg.solve(A, M_f)\n",
    "    "
   ]
  },
  {
   "cell_type": "markdown",
   "metadata": {},
   "source": [
    "## Error"
   ]
  },
  {
   "cell_type": "code",
   "execution_count": 41,
   "metadata": {
    "collapsed": true
   },
   "outputs": [],
   "source": [
    "def L2_error(u, U, N):\n",
    "    \"\"\"\n",
    "    Given the exact solution u and our approximate solution U\n",
    "    compute the error.\n",
    "    \"\"\"\n",
    "    \n",
    "    # Initially assume no error\n",
    "    err = 0\n",
    "    xs, h = np.linspace(0, 1, N+1, retstep=True)\n",
    "    \n",
    "    # Add the error at each point\n",
    "    for i in range(len(U)):\n",
    "        err += (u(xs[i]) - U[i])**2\n",
    "        \n",
    "    # Scale by the length of each subinterval and square root\n",
    "    err = sqrt(h*err)\n",
    "    \n",
    "    return err\n",
    "    "
   ]
  },
  {
   "cell_type": "markdown",
   "metadata": {},
   "source": [
    "## Visualise results"
   ]
  },
  {
   "cell_type": "code",
   "execution_count": 53,
   "metadata": {
    "collapsed": false
   },
   "outputs": [
    {
     "name": "stdout",
     "output_type": "stream",
     "text": [
      "3.5495269750295416e-05\n"
     ]
    }
   ],
   "source": [
    "N = 128\n",
    "\n",
    "# Define the RHS\n",
    "def f(x):\n",
    "    return (pi ** 2)*sin(pi*x)\n",
    "\n",
    "# Define the exact solution\n",
    "def u(x):\n",
    "    return sin(pi*x)\n",
    "    \n",
    "# Solve the system\n",
    "xs, us = solve_system(f, N=N)\n",
    "\n",
    "# Add the boundary points to the solution.\n",
    "U = [0] + us.tolist() + [0]\n",
    "print(L2_error(u,U,N))"
   ]
  },
  {
   "cell_type": "code",
   "execution_count": 35,
   "metadata": {
    "collapsed": false
   },
   "outputs": [
    {
     "data": {
      "image/png": "[encoded data removed]",
      "text/plain": [
       "<matplotlib.figure.Figure at 0x7fcd00717be0>"
      ]
     },
     "metadata": {},
     "output_type": "display_data"
    }
   ],
   "source": [
    "XS = np.linspace(0,1,12)\n",
    "YS = [sin(pi*x) for x in XS]\n",
    "\n",
    "p = plt.plot(XS, YS)\n",
    "p += plt.plot(xs,u, 'r-o')"
   ]
  },
  {
   "cell_type": "code",
   "execution_count": null,
   "metadata": {
    "collapsed": true
   },
   "outputs": [],
   "source": []
  }
 ],
 "metadata": {
  "kernelspec": {
   "display_name": "Python 3",
   "language": "python",
   "name": "python3"
  },
  "language_info": {
   "codemirror_mode": {
    "name": "ipython",
    "version": 3
   },
   "file_extension": ".py",
   "mimetype": "text/x-python",
   "name": "python",
   "nbconvert_exporter": "python",
   "pygments_lexer": "ipython3",
   "version": "3.5.2"
  }
 },
 "nbformat": 4,
 "nbformat_minor": 0
}
