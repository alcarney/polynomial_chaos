{
 "cells": [
  {
   "cell_type": "code",
   "execution_count": 3,
   "metadata": {
    "collapsed": false
   },
   "outputs": [],
   "source": [
    "import numpy as np\n",
    "from math import sin, pi\n",
    "import matplotlib.pyplot as plt"
   ]
  },
  {
   "cell_type": "code",
   "execution_count": 4,
   "metadata": {
    "collapsed": false
   },
   "outputs": [
    {
     "name": "stdout",
     "output_type": "stream",
     "text": [
      "Constructing...\n",
      "Setting Non Zero Entries\n",
      "Making Sparse\n",
      "(261121, 263169)\n",
      "(263169,)\n",
      "Solving...\n"
     ]
    },
    {
     "data": {
      "text/plain": [
       "4.742003545171018e-06"
      ]
     },
     "execution_count": 4,
     "metadata": {},
     "output_type": "execute_result"
    }
   ],
   "source": [
    "N = 512\n",
    "\n",
    "def f(x, y):\n",
    "    return (2*pi**2) * (sin(pi * x)) * (sin(pi * y))\n",
    "\n",
    "def u(x, y):\n",
    "    return sin(pi*x)*sin(pi*y)\n",
    "\n",
    "xs, ys, U = solve_system(f, N, 1, [0,0], 0)\n",
    "\n",
    "err = L2_error(u, U, N)\n",
    "err"
   ]
  },
  {
   "cell_type": "code",
   "execution_count": null,
   "metadata": {
    "collapsed": true
   },
   "outputs": [],
   "source": []
  }
 ],
 "metadata": {
  "kernelspec": {
   "display_name": "Python 3",
   "language": "python",
   "name": "python3"
  },
  "language_info": {
   "codemirror_mode": {
    "name": "ipython",
    "version": 3
   },
   "file_extension": ".py",
   "mimetype": "text/x-python",
   "name": "python",
   "nbconvert_exporter": "python",
   "pygments_lexer": "ipython3",
   "version": "3.5.2"
  }
 },
 "nbformat": 4,
 "nbformat_minor": 0
}
