{
 "cells": [
  {
   "cell_type": "code",
   "execution_count": 10,
   "metadata": {
    "collapsed": true
   },
   "outputs": [],
   "source": [
    "from fem.oned_deterministic import solve_system, L2_error\n",
    "import matplotlib.pyplot as plt\n",
    "from math import sin, pi\n",
    "import numpy as np"
   ]
  },
  {
   "cell_type": "markdown",
   "metadata": {},
   "source": [
    "## Define the problem"
   ]
  },
  {
   "cell_type": "code",
   "execution_count": 8,
   "metadata": {
    "collapsed": true
   },
   "outputs": [],
   "source": [
    "a, b, c = 1, 0, 0\n",
    "\n",
    "def u(x):\n",
    "    return sin(pi*x)\n",
    "\n",
    "def f(x):\n",
    "    return (pi**2)*sin(pi*x)"
   ]
  },
  {
   "cell_type": "markdown",
   "metadata": {},
   "source": [
    "## Do FEM"
   ]
  },
  {
   "cell_type": "code",
   "execution_count": 11,
   "metadata": {
    "collapsed": false
   },
   "outputs": [
    {
     "data": {
      "text/plain": [
       "[<matplotlib.lines.Line2D at 0x7f8975815128>,\n",
       " <matplotlib.lines.Line2D at 0x7f89758152e8>]"
      ]
     },
     "execution_count": 11,
     "metadata": {},
     "output_type": "execute_result"
    },
    {
     "data": {
      "image/png": "[encoded data removed]",
      "text/plain": [
       "<matplotlib.figure.Figure at 0x7f89758f0f28>"
      ]
     },
     "metadata": {},
     "output_type": "display_data"
    }
   ],
   "source": [
    "errors = []\n",
    "XS = np.linspace(0, 1, 512)\n",
    "US = [u(x) for x in XS]\n",
    "\n",
    "for N in [4, 8, 16, 32, 64, 128, 256]:\n",
    "    # Solve the system \n",
    "    xs, U = solve_system(f, N, a, b, c)\n",
    "    \n",
    "    # Calculate the error\n",
    "    errors.append((N, L2_error(u, U, N)))\n",
    "    \n",
    "    # Do a plot\n",
    "    if N == 32:\n",
    "        p = plt.plot(XS, US)\n",
    "        p += plt.plot(xs, U, 'r-o')\n",
    "        \n",
    "p"
   ]
  },
  {
   "cell_type": "code",
   "execution_count": 12,
   "metadata": {
    "collapsed": false
   },
   "outputs": [
    {
     "data": {
      "text/plain": [
       "[(4, 0.03519913325464694),\n",
       " (8, 0.009016564691422566),\n",
       " (16, 0.0022673797959945952),\n",
       " (32, 0.0005676676187006475),\n",
       " (64, 0.00014196824780205),\n",
       " (128, 3.5495269750295416e-05),\n",
       " (256, 8.874017887172983e-06)]"
      ]
     },
     "execution_count": 12,
     "metadata": {},
     "output_type": "execute_result"
    }
   ],
   "source": [
    "errors"
   ]
  },
  {
   "cell_type": "code",
   "execution_count": null,
   "metadata": {
    "collapsed": true
   },
   "outputs": [],
   "source": []
  }
 ],
 "metadata": {
  "kernelspec": {
   "display_name": "Python 3",
   "language": "python",
   "name": "python3"
  },
  "language_info": {
   "codemirror_mode": {
    "name": "ipython",
    "version": 3
   },
   "file_extension": ".py",
   "mimetype": "text/x-python",
   "name": "python",
   "nbconvert_exporter": "python",
   "pygments_lexer": "ipython3",
   "version": "3.5.2"
  }
 },
 "nbformat": 4,
 "nbformat_minor": 0
}
