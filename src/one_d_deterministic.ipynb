{
 "cells": [
  {
   "cell_type": "code",
   "execution_count": 1,
   "metadata": {
    "collapsed": true
   },
   "outputs": [],
   "source": [
    "from fem.oned_deterministic import solve_system, L2_error\n",
    "import matplotlib.pyplot as plt\n",
    "from math import sin, cos, pi\n",
    "import numpy as np"
   ]
  },
  {
   "cell_type": "code",
   "execution_count": 4,
   "metadata": {
    "collapsed": false
   },
   "outputs": [],
   "source": [
    "def do_fem(f, a, b, c):\n",
    "    errors = []\n",
    "    XS = np.linspace(0, 1, 512)\n",
    "    US = [u(x) for x in XS]\n",
    "\n",
    "    for N in [4, 8, 16, 32, 64, 128, 256, 512]:\n",
    "        # Solve the system \n",
    "        xs, U = solve_system(f, N, a, b, c)\n",
    "    \n",
    "        # Calculate the error\n",
    "        errors.append((N, L2_error(u, U, N)))\n",
    "    \n",
    "        # Do a plot\n",
    "        if N == 32:\n",
    "            p = plt.plot(XS, US)\n",
    "            p += plt.plot(xs, U, 'r-o')\n",
    "        \n",
    "    return errors, p"
   ]
  },
  {
   "cell_type": "markdown",
   "metadata": {},
   "source": [
    "## Define the problem"
   ]
  },
  {
   "cell_type": "code",
   "execution_count": 5,
   "metadata": {
    "collapsed": false
   },
   "outputs": [
    {
     "data": {
      "image/png": "[encoded data removed]",
      "text/plain": [
       "<matplotlib.figure.Figure at 0x7fb88bff3390>"
      ]
     },
     "metadata": {},
     "output_type": "display_data"
    }
   ],
   "source": [
    "a, b, c = 1, 0, 0\n",
    "\n",
    "def u(x):\n",
    "    return sin(pi*x)\n",
    "\n",
    "def f(x):\n",
    "    return (pi**2)*sin(pi*x)\n",
    "\n",
    "errors, p = do_fem(f, a, b, c)"
   ]
  },
  {
   "cell_type": "code",
   "execution_count": 6,
   "metadata": {
    "collapsed": false
   },
   "outputs": [
    {
     "data": {
      "text/plain": [
       "[(4, 0.03519913325464694),\n",
       " (8, 0.009016564691422566),\n",
       " (16, 0.0022673797959945952),\n",
       " (32, 0.0005676676187006475),\n",
       " (64, 0.00014196824780205),\n",
       " (128, 3.5495269750295416e-05),\n",
       " (256, 8.874017887172983e-06),\n",
       " (512, 2.2185169567767713e-06)]"
      ]
     },
     "execution_count": 6,
     "metadata": {},
     "output_type": "execute_result"
    }
   ],
   "source": [
    "errors"
   ]
  },
  {
   "cell_type": "markdown",
   "metadata": {},
   "source": [
    "## Do FEM"
   ]
  },
  {
   "cell_type": "code",
   "execution_count": 22,
   "metadata": {
    "collapsed": false
   },
   "outputs": [
    {
     "data": {
      "text/plain": [
       "[(4, 0.03519913325464694),\n",
       " (8, 0.009016564691422566),\n",
       " (16, 0.0022673797959945952),\n",
       " (32, 0.0005676676187006475),\n",
       " (64, 0.00014196824780205),\n",
       " (128, 3.5495269750295416e-05),\n",
       " (256, 8.874017887172983e-06),\n",
       " (512, 2.2185169567767713e-06)]"
      ]
     },
     "execution_count": 22,
     "metadata": {},
     "output_type": "execute_result"
    }
   ],
   "source": [
    "errors"
   ]
  },
  {
   "cell_type": "markdown",
   "metadata": {
    "collapsed": true
   },
   "source": [
    "## Case 2: a = 1, b = 0, c = 1"
   ]
  },
  {
   "cell_type": "code",
   "execution_count": 9,
   "metadata": {
    "collapsed": false
   },
   "outputs": [
    {
     "data": {
      "image/png": "[encoded data removed]",
      "text/plain": [
       "<matplotlib.figure.Figure at 0x7fb889ecde48>"
      ]
     },
     "metadata": {},
     "output_type": "display_data"
    }
   ],
   "source": [
    "a, b, c = 1, 0, 1\n",
    "\n",
    "def u(x):\n",
    "    return sin(pi*x)\n",
    "\n",
    "def f(x):\n",
    "    return (pi**2)*sin(pi*x) + sin(pi*x)\n",
    "\n",
    "errors, p = do_fem(f, a, b, c)"
   ]
  },
  {
   "cell_type": "code",
   "execution_count": 10,
   "metadata": {
    "collapsed": false
   },
   "outputs": [
    {
     "data": {
      "text/plain": [
       "[(4, 0.03210786778423772),\n",
       " (8, 0.008196659393528191),\n",
       " (16, 0.002059389131447212),\n",
       " (32, 0.000515480458194226),\n",
       " (64, 0.00012890959712443404),\n",
       " (128, 3.2229865310246856e-05),\n",
       " (256, 8.057619540263114e-06),\n",
       " (512, 2.0144109879624097e-06)]"
      ]
     },
     "execution_count": 10,
     "metadata": {},
     "output_type": "execute_result"
    }
   ],
   "source": [
    "errors"
   ]
  },
  {
   "cell_type": "markdown",
   "metadata": {},
   "source": [
    "## Case 3: a = 1, b = 0, c = 10"
   ]
  },
  {
   "cell_type": "code",
   "execution_count": 12,
   "metadata": {
    "collapsed": false
   },
   "outputs": [
    {
     "data": {
      "image/png": "[encoded data removed]",
      "text/plain": [
       "<matplotlib.figure.Figure at 0x7fb889e160b8>"
      ]
     },
     "metadata": {},
     "output_type": "display_data"
    }
   ],
   "source": [
    "a, b, c = 1, 0, 10\n",
    "\n",
    "def u(x):\n",
    "    return sin(pi*x)\n",
    "\n",
    "def f(x):\n",
    "    return (pi**2)*sin(pi*x) + 10*sin(pi*x)\n",
    "\n",
    "errors, p = do_fem(f, a, b, c)"
   ]
  },
  {
   "cell_type": "code",
   "execution_count": 13,
   "metadata": {
    "collapsed": false
   },
   "outputs": [
    {
     "data": {
      "text/plain": [
       "[(4, 0.017933350471179003),\n",
       " (8, 0.004507624188346543),\n",
       " (16, 0.001128070464258532),\n",
       " (32, 0.00028208510360614385),\n",
       " (64, 7.052541211479806e-05),\n",
       " (128, 1.7631610146362113e-05),\n",
       " (256, 4.407918093675476e-06),\n",
       " (512, 1.101978625277796e-06)]"
      ]
     },
     "execution_count": 13,
     "metadata": {},
     "output_type": "execute_result"
    }
   ],
   "source": [
    "errors"
   ]
  },
  {
   "cell_type": "markdown",
   "metadata": {},
   "source": [
    "## Case 4: a = 1, b = 1, c = 0"
   ]
  },
  {
   "cell_type": "code",
   "execution_count": 15,
   "metadata": {
    "collapsed": false
   },
   "outputs": [
    {
     "data": {
      "image/png": "[encoded data removed]",
      "text/plain": [
       "<matplotlib.figure.Figure at 0x7fb889df5400>"
      ]
     },
     "metadata": {},
     "output_type": "display_data"
    }
   ],
   "source": [
    "a, b, c = 1, 1, 0\n",
    "\n",
    "def u(x):\n",
    "    return sin(pi*x)\n",
    "\n",
    "def f(x):\n",
    "    return (pi**2)*sin(pi*x) + pi*cos(pi*x)\n",
    "\n",
    "errors, p = do_fem(f, a, b, c)"
   ]
  },
  {
   "cell_type": "code",
   "execution_count": null,
   "metadata": {
    "collapsed": true
   },
   "outputs": [],
   "source": []
  }
 ],
 "metadata": {
  "kernelspec": {
   "display_name": "Python 3",
   "language": "python",
   "name": "python3"
  },
  "language_info": {
   "codemirror_mode": {
    "name": "ipython",
    "version": 3
   },
   "file_extension": ".py",
   "mimetype": "text/x-python",
   "name": "python",
   "nbconvert_exporter": "python",
   "pygments_lexer": "ipython3",
   "version": "3.5.2"
  }
 },
 "nbformat": 4,
 "nbformat_minor": 0
}
